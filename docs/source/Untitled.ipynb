{
 "cells": [
  {
   "cell_type": "code",
   "execution_count": 12,
   "id": "2903ab3b-8a25-4aa9-992b-695346e2521a",
   "metadata": {},
   "outputs": [],
   "source": [
    "import alphastats as a"
   ]
  },
  {
   "cell_type": "code",
   "execution_count": 13,
   "id": "f5b304f8-6f87-4009-906e-f0a4060e1c8c",
   "metadata": {},
   "outputs": [
    {
     "ename": "NameError",
     "evalue": "name 'MaxQuantLoader' is not defined",
     "output_type": "error",
     "traceback": [
      "\u001b[0;31m---------------------------------------------------------------------------\u001b[0m",
      "\u001b[0;31mNameError\u001b[0m                                 Traceback (most recent call last)",
      "\u001b[0;32m/var/folders/zc/tvqjw4cj7dvg_cps70bhwgwr0000gn/T/ipykernel_69530/377731228.py\u001b[0m in \u001b[0;36m<module>\u001b[0;34m\u001b[0m\n\u001b[0;32m----> 1\u001b[0;31m \u001b[0mMaxQuantLoader\u001b[0m\u001b[0;34m(\u001b[0m\u001b[0;34m)\u001b[0m\u001b[0;34m\u001b[0m\u001b[0;34m\u001b[0m\u001b[0m\n\u001b[0m",
      "\u001b[0;31mNameError\u001b[0m: name 'MaxQuantLoader' is not defined"
     ]
    }
   ],
   "source": [
    "MaxQuantLoader()"
   ]
  },
  {
   "cell_type": "code",
   "execution_count": 14,
   "id": "72b7ad4b-3d25-4f52-aaf0-c07513e2900e",
   "metadata": {},
   "outputs": [
    {
     "ename": "AttributeError",
     "evalue": "module 'alphastats' has no attribute 'DataSet'",
     "output_type": "error",
     "traceback": [
      "\u001b[0;31m---------------------------------------------------------------------------\u001b[0m",
      "\u001b[0;31mAttributeError\u001b[0m                            Traceback (most recent call last)",
      "\u001b[0;32m/var/folders/zc/tvqjw4cj7dvg_cps70bhwgwr0000gn/T/ipykernel_69530/2811252034.py\u001b[0m in \u001b[0;36m<module>\u001b[0;34m\u001b[0m\n\u001b[0;32m----> 1\u001b[0;31m \u001b[0ma\u001b[0m\u001b[0;34m.\u001b[0m\u001b[0mDataSet\u001b[0m\u001b[0;34m(\u001b[0m\u001b[0;34m)\u001b[0m\u001b[0;34m\u001b[0m\u001b[0;34m\u001b[0m\u001b[0m\n\u001b[0m",
      "\u001b[0;31mAttributeError\u001b[0m: module 'alphastats' has no attribute 'DataSet'"
     ]
    }
   ],
   "source": [
    "a.DataSet()"
   ]
  },
  {
   "cell_type": "code",
   "execution_count": 15,
   "id": "3fba40cc-f669-42f9-b72b-b44753ebebe9",
   "metadata": {},
   "outputs": [
    {
     "ename": "NameError",
     "evalue": "name 'DataSet' is not defined",
     "output_type": "error",
     "traceback": [
      "\u001b[0;31m---------------------------------------------------------------------------\u001b[0m",
      "\u001b[0;31mNameError\u001b[0m                                 Traceback (most recent call last)",
      "\u001b[0;32m/var/folders/zc/tvqjw4cj7dvg_cps70bhwgwr0000gn/T/ipykernel_69530/321154205.py\u001b[0m in \u001b[0;36m<module>\u001b[0;34m\u001b[0m\n\u001b[0;32m----> 1\u001b[0;31m \u001b[0mDataSet\u001b[0m\u001b[0;34m(\u001b[0m\u001b[0;34m)\u001b[0m\u001b[0;34m\u001b[0m\u001b[0;34m\u001b[0m\u001b[0m\n\u001b[0m",
      "\u001b[0;31mNameError\u001b[0m: name 'DataSet' is not defined"
     ]
    }
   ],
   "source": [
    "DataSet()"
   ]
  },
  {
   "cell_type": "code",
   "execution_count": 16,
   "id": "aa273180-8cc5-4d67-bf38-62432625f64b",
   "metadata": {},
   "outputs": [
    {
     "ename": "AttributeError",
     "evalue": "module 'alphastats' has no attribute 'MaxQuantLoader'",
     "output_type": "error",
     "traceback": [
      "\u001b[0;31m---------------------------------------------------------------------------\u001b[0m",
      "\u001b[0;31mAttributeError\u001b[0m                            Traceback (most recent call last)",
      "\u001b[0;32m/var/folders/zc/tvqjw4cj7dvg_cps70bhwgwr0000gn/T/ipykernel_69530/1267435820.py\u001b[0m in \u001b[0;36m<module>\u001b[0;34m\u001b[0m\n\u001b[0;32m----> 1\u001b[0;31m \u001b[0ma\u001b[0m\u001b[0;34m.\u001b[0m\u001b[0mMaxQuantLoader\u001b[0m\u001b[0;34m(\u001b[0m\u001b[0;34m)\u001b[0m\u001b[0;34m\u001b[0m\u001b[0;34m\u001b[0m\u001b[0m\n\u001b[0m",
      "\u001b[0;31mAttributeError\u001b[0m: module 'alphastats' has no attribute 'MaxQuantLoader'"
     ]
    }
   ],
   "source": [
    "a.MaxQuantLoader()"
   ]
  },
  {
   "cell_type": "code",
   "execution_count": 17,
   "id": "1e747608-d75a-4478-a11b-2b4a3069ee4e",
   "metadata": {},
   "outputs": [
    {
     "name": "stdout",
     "output_type": "stream",
     "text": [
      "Collecting git+https://github.com/MannLabs/alphastats.git\n",
      "  Cloning https://github.com/MannLabs/alphastats.git to /private/var/folders/zc/tvqjw4cj7dvg_cps70bhwgwr0000gn/T/pip-req-build-xnchwvki\n",
      "  Running command git clone -q https://github.com/MannLabs/alphastats.git /private/var/folders/zc/tvqjw4cj7dvg_cps70bhwgwr0000gn/T/pip-req-build-xnchwvki\n",
      "  Resolved https://github.com/MannLabs/alphastats.git to commit f8e8ec83a386e15fb384dc77c316f6ef5d8cb36f\n",
      "Requirement already satisfied: pandas in /Users/drq441/opt/anaconda3/lib/python3.9/site-packages (from alphastats==0.0.1) (1.4.2)\n",
      "Requirement already satisfied: sklearn in /Users/drq441/opt/anaconda3/lib/python3.9/site-packages (from alphastats==0.0.1) (0.0)\n",
      "Requirement already satisfied: data_cache in /Users/drq441/opt/anaconda3/lib/python3.9/site-packages (from alphastats==0.0.1) (0.1.6)\n",
      "Requirement already satisfied: dash_bio in /Users/drq441/opt/anaconda3/lib/python3.9/site-packages (from alphastats==0.0.1) (1.0.2)\n",
      "Requirement already satisfied: plotly in /Users/drq441/opt/anaconda3/lib/python3.9/site-packages (from alphastats==0.0.1) (5.7.0)\n",
      "Requirement already satisfied: iteration_utilities in /Users/drq441/opt/anaconda3/lib/python3.9/site-packages (from alphastats==0.0.1) (0.11.0)\n",
      "Requirement already satisfied: openpyxl in /Users/drq441/opt/anaconda3/lib/python3.9/site-packages (from alphastats==0.0.1) (3.0.9)\n",
      "Requirement already satisfied: sklearn_pandas in /Users/drq441/opt/anaconda3/lib/python3.9/site-packages (from alphastats==0.0.1) (2.2.0)\n",
      "Requirement already satisfied: scikit-learn>=0.20.1 in /Users/drq441/opt/anaconda3/lib/python3.9/site-packages (from dash_bio->alphastats==0.0.1) (1.0.2)\n",
      "Requirement already satisfied: requests in /Users/drq441/opt/anaconda3/lib/python3.9/site-packages (from dash_bio->alphastats==0.0.1) (2.26.0)\n",
      "Requirement already satisfied: biopython>=1.77 in /Users/drq441/opt/anaconda3/lib/python3.9/site-packages (from dash_bio->alphastats==0.0.1) (1.78)\n",
      "Requirement already satisfied: dash>=1.6.1 in /Users/drq441/opt/anaconda3/lib/python3.9/site-packages (from dash_bio->alphastats==0.0.1) (2.3.1)\n",
      "Requirement already satisfied: GEOparse>=1.1.0 in /Users/drq441/opt/anaconda3/lib/python3.9/site-packages (from dash_bio->alphastats==0.0.1) (2.0.3)\n",
      "Requirement already satisfied: jsonschema in /Users/drq441/opt/anaconda3/lib/python3.9/site-packages (from dash_bio->alphastats==0.0.1) (3.2.0)\n",
      "Requirement already satisfied: periodictable in /Users/drq441/opt/anaconda3/lib/python3.9/site-packages (from dash_bio->alphastats==0.0.1) (1.6.0)\n",
      "Requirement already satisfied: parmed in /Users/drq441/opt/anaconda3/lib/python3.9/site-packages (from dash_bio->alphastats==0.0.1) (3.4.3)\n",
      "Requirement already satisfied: colour in /Users/drq441/opt/anaconda3/lib/python3.9/site-packages (from dash_bio->alphastats==0.0.1) (0.1.5)\n",
      "Requirement already satisfied: scipy in /Users/drq441/opt/anaconda3/lib/python3.9/site-packages (from dash_bio->alphastats==0.0.1) (1.8.0)\n",
      "Requirement already satisfied: numpy in /Users/drq441/opt/anaconda3/lib/python3.9/site-packages (from biopython>=1.77->dash_bio->alphastats==0.0.1) (1.20.3)\n",
      "Requirement already satisfied: dash-html-components==2.0.0 in /Users/drq441/opt/anaconda3/lib/python3.9/site-packages (from dash>=1.6.1->dash_bio->alphastats==0.0.1) (2.0.0)\n",
      "Requirement already satisfied: Flask>=1.0.4 in /Users/drq441/opt/anaconda3/lib/python3.9/site-packages (from dash>=1.6.1->dash_bio->alphastats==0.0.1) (1.1.2)\n",
      "Requirement already satisfied: dash-core-components==2.0.0 in /Users/drq441/opt/anaconda3/lib/python3.9/site-packages (from dash>=1.6.1->dash_bio->alphastats==0.0.1) (2.0.0)\n",
      "Requirement already satisfied: dash-table==5.0.0 in /Users/drq441/opt/anaconda3/lib/python3.9/site-packages (from dash>=1.6.1->dash_bio->alphastats==0.0.1) (5.0.0)\n",
      "Requirement already satisfied: flask-compress in /Users/drq441/opt/anaconda3/lib/python3.9/site-packages (from dash>=1.6.1->dash_bio->alphastats==0.0.1) (1.12)\n",
      "Requirement already satisfied: itsdangerous>=0.24 in /Users/drq441/opt/anaconda3/lib/python3.9/site-packages (from Flask>=1.0.4->dash>=1.6.1->dash_bio->alphastats==0.0.1) (2.0.1)\n",
      "Requirement already satisfied: click>=5.1 in /Users/drq441/opt/anaconda3/lib/python3.9/site-packages (from Flask>=1.0.4->dash>=1.6.1->dash_bio->alphastats==0.0.1) (8.0.1)\n",
      "Requirement already satisfied: Werkzeug>=0.15 in /Users/drq441/opt/anaconda3/lib/python3.9/site-packages (from Flask>=1.0.4->dash>=1.6.1->dash_bio->alphastats==0.0.1) (2.0.2)\n",
      "Requirement already satisfied: Jinja2>=2.10.1 in /Users/drq441/opt/anaconda3/lib/python3.9/site-packages (from Flask>=1.0.4->dash>=1.6.1->dash_bio->alphastats==0.0.1) (2.11.3)\n",
      "Requirement already satisfied: tqdm>=4.31.1 in /Users/drq441/opt/anaconda3/lib/python3.9/site-packages (from GEOparse>=1.1.0->dash_bio->alphastats==0.0.1) (4.64.0)\n",
      "Requirement already satisfied: MarkupSafe>=0.23 in /Users/drq441/opt/anaconda3/lib/python3.9/site-packages (from Jinja2>=2.10.1->Flask>=1.0.4->dash>=1.6.1->dash_bio->alphastats==0.0.1) (1.1.1)\n",
      "Requirement already satisfied: python-dateutil>=2.8.1 in /Users/drq441/opt/anaconda3/lib/python3.9/site-packages (from pandas->alphastats==0.0.1) (2.8.2)\n",
      "Requirement already satisfied: pytz>=2020.1 in /Users/drq441/opt/anaconda3/lib/python3.9/site-packages (from pandas->alphastats==0.0.1) (2021.3)\n",
      "Requirement already satisfied: six in /Users/drq441/opt/anaconda3/lib/python3.9/site-packages (from plotly->alphastats==0.0.1) (1.16.0)\n",
      "Requirement already satisfied: tenacity>=6.2.0 in /Users/drq441/opt/anaconda3/lib/python3.9/site-packages (from plotly->alphastats==0.0.1) (8.0.1)\n",
      "Requirement already satisfied: certifi>=2017.4.17 in /Users/drq441/opt/anaconda3/lib/python3.9/site-packages (from requests->dash_bio->alphastats==0.0.1) (2022.5.18.1)\n",
      "Requirement already satisfied: charset-normalizer~=2.0.0 in /Users/drq441/opt/anaconda3/lib/python3.9/site-packages (from requests->dash_bio->alphastats==0.0.1) (2.0.4)\n",
      "Requirement already satisfied: urllib3<1.27,>=1.21.1 in /Users/drq441/opt/anaconda3/lib/python3.9/site-packages (from requests->dash_bio->alphastats==0.0.1) (1.26.7)\n",
      "Requirement already satisfied: idna<4,>=2.5 in /Users/drq441/opt/anaconda3/lib/python3.9/site-packages (from requests->dash_bio->alphastats==0.0.1) (3.2)\n",
      "Requirement already satisfied: threadpoolctl>=2.0.0 in /Users/drq441/opt/anaconda3/lib/python3.9/site-packages (from scikit-learn>=0.20.1->dash_bio->alphastats==0.0.1) (2.2.0)\n",
      "Requirement already satisfied: joblib>=0.11 in /Users/drq441/opt/anaconda3/lib/python3.9/site-packages (from scikit-learn>=0.20.1->dash_bio->alphastats==0.0.1) (1.1.0)\n",
      "Requirement already satisfied: h5py in /Users/drq441/opt/anaconda3/lib/python3.9/site-packages (from data_cache->alphastats==0.0.1) (3.6.0)\n",
      "Requirement already satisfied: tables in /Users/drq441/opt/anaconda3/lib/python3.9/site-packages (from data_cache->alphastats==0.0.1) (3.6.1)\n",
      "Requirement already satisfied: brotli in /Users/drq441/opt/anaconda3/lib/python3.9/site-packages (from flask-compress->dash>=1.6.1->dash_bio->alphastats==0.0.1) (1.0.9)\n",
      "Requirement already satisfied: pyrsistent>=0.14.0 in /Users/drq441/opt/anaconda3/lib/python3.9/site-packages (from jsonschema->dash_bio->alphastats==0.0.1) (0.18.0)\n",
      "Requirement already satisfied: attrs>=17.4.0 in /Users/drq441/opt/anaconda3/lib/python3.9/site-packages (from jsonschema->dash_bio->alphastats==0.0.1) (21.2.0)\n",
      "Requirement already satisfied: setuptools in /Users/drq441/opt/anaconda3/lib/python3.9/site-packages (from jsonschema->dash_bio->alphastats==0.0.1) (62.3.2)\n",
      "Requirement already satisfied: et-xmlfile in /Users/drq441/opt/anaconda3/lib/python3.9/site-packages (from openpyxl->alphastats==0.0.1) (1.1.0)\n",
      "Requirement already satisfied: pyparsing in /Users/drq441/opt/anaconda3/lib/python3.9/site-packages (from periodictable->dash_bio->alphastats==0.0.1) (2.4.7)\n",
      "Requirement already satisfied: numexpr>=2.6.2 in /Users/drq441/opt/anaconda3/lib/python3.9/site-packages (from tables->data_cache->alphastats==0.0.1) (2.7.3)\n"
     ]
    }
   ],
   "source": [
    "!pip3 install git+https://github.com/MannLabs/alphastats.git\n",
    "\n"
   ]
  },
  {
   "cell_type": "code",
   "execution_count": 18,
   "id": "0b84f218-72e0-4cc0-be43-f9c64460bf53",
   "metadata": {},
   "outputs": [],
   "source": [
    "import alphastats as a"
   ]
  },
  {
   "cell_type": "code",
   "execution_count": 19,
   "id": "dd5ebef9-f480-48e5-8e53-0eefedc93843",
   "metadata": {},
   "outputs": [
    {
     "ename": "AttributeError",
     "evalue": "module 'alphastats' has no attribute 'Dataset'",
     "output_type": "error",
     "traceback": [
      "\u001b[0;31m---------------------------------------------------------------------------\u001b[0m",
      "\u001b[0;31mAttributeError\u001b[0m                            Traceback (most recent call last)",
      "\u001b[0;32m/var/folders/zc/tvqjw4cj7dvg_cps70bhwgwr0000gn/T/ipykernel_69530/296237410.py\u001b[0m in \u001b[0;36m<module>\u001b[0;34m\u001b[0m\n\u001b[0;32m----> 1\u001b[0;31m \u001b[0ma\u001b[0m\u001b[0;34m.\u001b[0m\u001b[0mDataset\u001b[0m\u001b[0;34m(\u001b[0m\u001b[0;34m)\u001b[0m\u001b[0;34m\u001b[0m\u001b[0;34m\u001b[0m\u001b[0m\n\u001b[0m",
      "\u001b[0;31mAttributeError\u001b[0m: module 'alphastats' has no attribute 'Dataset'"
     ]
    }
   ],
   "source": [
    "a.Dataset()"
   ]
  },
  {
   "cell_type": "code",
   "execution_count": null,
   "id": "ddfea8a4-182a-4204-8833-684155e1fe6b",
   "metadata": {},
   "outputs": [],
   "source": [
    "a.MaxQuan"
   ]
  },
  {
   "cell_type": "code",
   "execution_count": 21,
   "id": "826abc3d-3d25-4010-beea-fe1baa681520",
   "metadata": {},
   "outputs": [
    {
     "name": "stdout",
     "output_type": "stream",
     "text": [
      "[('__author__', 'Mann Labs'), ('__author_email__', 'opensource@alphastats.com'), ('__builtins__', {'__name__': 'builtins', '__doc__': \"Built-in functions, exceptions, and other objects.\\n\\nNoteworthy: None is the `nil' object; Ellipsis represents `...' in slices.\", '__package__': '', '__loader__': <class '_frozen_importlib.BuiltinImporter'>, '__spec__': ModuleSpec(name='builtins', loader=<class '_frozen_importlib.BuiltinImporter'>, origin='built-in'), '__build_class__': <built-in function __build_class__>, '__import__': <built-in function __import__>, 'abs': <built-in function abs>, 'all': <built-in function all>, 'any': <built-in function any>, 'ascii': <built-in function ascii>, 'bin': <built-in function bin>, 'breakpoint': <built-in function breakpoint>, 'callable': <built-in function callable>, 'chr': <built-in function chr>, 'compile': <built-in function compile>, 'delattr': <built-in function delattr>, 'dir': <built-in function dir>, 'divmod': <built-in function divmod>, 'eval': <built-in function eval>, 'exec': <built-in function exec>, 'format': <built-in function format>, 'getattr': <built-in function getattr>, 'globals': <built-in function globals>, 'hasattr': <built-in function hasattr>, 'hash': <built-in function hash>, 'hex': <built-in function hex>, 'id': <built-in function id>, 'input': <bound method Kernel.raw_input of <ipykernel.ipkernel.IPythonKernel object at 0x7f8a263bcdc0>>, 'isinstance': <built-in function isinstance>, 'issubclass': <built-in function issubclass>, 'iter': <built-in function iter>, 'len': <built-in function len>, 'locals': <built-in function locals>, 'max': <built-in function max>, 'min': <built-in function min>, 'next': <built-in function next>, 'oct': <built-in function oct>, 'ord': <built-in function ord>, 'pow': <built-in function pow>, 'print': <built-in function print>, 'repr': <built-in function repr>, 'round': <built-in function round>, 'setattr': <built-in function setattr>, 'sorted': <built-in function sorted>, 'sum': <built-in function sum>, 'vars': <built-in function vars>, 'None': None, 'Ellipsis': Ellipsis, 'NotImplemented': NotImplemented, 'False': False, 'True': True, 'bool': <class 'bool'>, 'memoryview': <class 'memoryview'>, 'bytearray': <class 'bytearray'>, 'bytes': <class 'bytes'>, 'classmethod': <class 'classmethod'>, 'complex': <class 'complex'>, 'dict': <class 'dict'>, 'enumerate': <class 'enumerate'>, 'filter': <class 'filter'>, 'float': <class 'float'>, 'frozenset': <class 'frozenset'>, 'property': <class 'property'>, 'int': <class 'int'>, 'list': <class 'list'>, 'map': <class 'map'>, 'object': <class 'object'>, 'range': <class 'range'>, 'reversed': <class 'reversed'>, 'set': <class 'set'>, 'slice': <class 'slice'>, 'staticmethod': <class 'staticmethod'>, 'str': <class 'str'>, 'super': <class 'super'>, 'tuple': <class 'tuple'>, 'type': <class 'type'>, 'zip': <class 'zip'>, '__debug__': True, 'BaseException': <class 'BaseException'>, 'Exception': <class 'Exception'>, 'TypeError': <class 'TypeError'>, 'StopAsyncIteration': <class 'StopAsyncIteration'>, 'StopIteration': <class 'StopIteration'>, 'GeneratorExit': <class 'GeneratorExit'>, 'SystemExit': <class 'SystemExit'>, 'KeyboardInterrupt': <class 'KeyboardInterrupt'>, 'ImportError': <class 'ImportError'>, 'ModuleNotFoundError': <class 'ModuleNotFoundError'>, 'OSError': <class 'OSError'>, 'EnvironmentError': <class 'OSError'>, 'IOError': <class 'OSError'>, 'EOFError': <class 'EOFError'>, 'RuntimeError': <class 'RuntimeError'>, 'RecursionError': <class 'RecursionError'>, 'NotImplementedError': <class 'NotImplementedError'>, 'NameError': <class 'NameError'>, 'UnboundLocalError': <class 'UnboundLocalError'>, 'AttributeError': <class 'AttributeError'>, 'SyntaxError': <class 'SyntaxError'>, 'IndentationError': <class 'IndentationError'>, 'TabError': <class 'TabError'>, 'LookupError': <class 'LookupError'>, 'IndexError': <class 'IndexError'>, 'KeyError': <class 'KeyError'>, 'ValueError': <class 'ValueError'>, 'UnicodeError': <class 'UnicodeError'>, 'UnicodeEncodeError': <class 'UnicodeEncodeError'>, 'UnicodeDecodeError': <class 'UnicodeDecodeError'>, 'UnicodeTranslateError': <class 'UnicodeTranslateError'>, 'AssertionError': <class 'AssertionError'>, 'ArithmeticError': <class 'ArithmeticError'>, 'FloatingPointError': <class 'FloatingPointError'>, 'OverflowError': <class 'OverflowError'>, 'ZeroDivisionError': <class 'ZeroDivisionError'>, 'SystemError': <class 'SystemError'>, 'ReferenceError': <class 'ReferenceError'>, 'MemoryError': <class 'MemoryError'>, 'BufferError': <class 'BufferError'>, 'Warning': <class 'Warning'>, 'UserWarning': <class 'UserWarning'>, 'DeprecationWarning': <class 'DeprecationWarning'>, 'PendingDeprecationWarning': <class 'PendingDeprecationWarning'>, 'SyntaxWarning': <class 'SyntaxWarning'>, 'RuntimeWarning': <class 'RuntimeWarning'>, 'FutureWarning': <class 'FutureWarning'>, 'ImportWarning': <class 'ImportWarning'>, 'UnicodeWarning': <class 'UnicodeWarning'>, 'BytesWarning': <class 'BytesWarning'>, 'ResourceWarning': <class 'ResourceWarning'>, 'ConnectionError': <class 'ConnectionError'>, 'BlockingIOError': <class 'BlockingIOError'>, 'BrokenPipeError': <class 'BrokenPipeError'>, 'ChildProcessError': <class 'ChildProcessError'>, 'ConnectionAbortedError': <class 'ConnectionAbortedError'>, 'ConnectionRefusedError': <class 'ConnectionRefusedError'>, 'ConnectionResetError': <class 'ConnectionResetError'>, 'FileExistsError': <class 'FileExistsError'>, 'FileNotFoundError': <class 'FileNotFoundError'>, 'IsADirectoryError': <class 'IsADirectoryError'>, 'NotADirectoryError': <class 'NotADirectoryError'>, 'InterruptedError': <class 'InterruptedError'>, 'PermissionError': <class 'PermissionError'>, 'ProcessLookupError': <class 'ProcessLookupError'>, 'TimeoutError': <class 'TimeoutError'>, 'open': <built-in function open>, 'copyright': Copyright (c) 2001-2021 Python Software Foundation.\n",
      "All Rights Reserved.\n",
      "\n",
      "Copyright (c) 2000 BeOpen.com.\n",
      "All Rights Reserved.\n",
      "\n",
      "Copyright (c) 1995-2001 Corporation for National Research Initiatives.\n",
      "All Rights Reserved.\n",
      "\n",
      "Copyright (c) 1991-1995 Stichting Mathematisch Centrum, Amsterdam.\n",
      "All Rights Reserved., 'credits':     Thanks to CWI, CNRI, BeOpen.com, Zope Corporation and a cast of thousands\n",
      "    for supporting Python development.  See www.python.org for more information., 'license': Type license() to see the full license text, 'help': Type help() for interactive help, or help(object) for help about object., 'execfile': <function execfile at 0x7f8a26092550>, 'runfile': <function runfile at 0x7f8a2615e0d0>, '__IPYTHON__': True, 'display': <function display at 0x7f8a246f6430>, 'get_ipython': <bound method InteractiveShell.get_ipython of <ipykernel.zmqshell.ZMQInteractiveShell object at 0x7f8a263bce20>>}), ('__cached__', '/Users/drq441/opt/anaconda3/lib/python3.9/site-packages/alphastats/__pycache__/__init__.cpython-39.pyc'), ('__classifiers__', ['Development Status :: 1 - Planning', 'Intended Audience :: Science/Research', 'License :: OSI Approved :: Apache Software License', 'Operating System :: OS Independent', 'Programming Language :: Python :: 3', 'Topic :: Scientific/Engineering :: Bio-Informatics']), ('__console_scripts__', ['alphastats=alphastats.cli:run']), ('__description__', 'An open-source Python package for Mass Spectrometry Analysis'), ('__doc__', None), ('__extra_requirements__', {'development': 'requirements_development.txt'}), ('__file__', '/Users/drq441/opt/anaconda3/lib/python3.9/site-packages/alphastats/__init__.py'), ('__github__', 'https://github.com/MannLabs/alphastats'), ('__keywords__', ['bioinformatics', 'software', 'mass spectometry']), ('__license__', 'Apache'), ('__loader__', <_frozen_importlib_external.SourceFileLoader object at 0x7f8a26433c70>), ('__name__', 'alphastats'), ('__package__', 'alphastats'), ('__path__', ['/Users/drq441/opt/anaconda3/lib/python3.9/site-packages/alphastats']), ('__project__', 'alphastats'), ('__python_version__', '>=3.8,<3.10'), ('__spec__', ModuleSpec(name='alphastats', loader=<_frozen_importlib_external.SourceFileLoader object at 0x7f8a26433c70>, origin='/Users/drq441/opt/anaconda3/lib/python3.9/site-packages/alphastats/__init__.py', submodule_search_locations=['/Users/drq441/opt/anaconda3/lib/python3.9/site-packages/alphastats'])), ('__urls__', {'Mann Labs at MPIB': 'https://www.biochem.mpg.de/mann', 'GitHub': 'https://github.com/MannLabs/alphastats'}), ('__version__', '0.0.1')]\n"
     ]
    }
   ],
   "source": [
    "from inspect import getmembers, isfunction\n",
    "\n",
    "\n",
    "print(getmembers(a))"
   ]
  },
  {
   "cell_type": "code",
   "execution_count": null,
   "id": "11cdfcf3-14fa-415b-bfc2-d87096714da8",
   "metadata": {},
   "outputs": [],
   "source": []
  },
  {
   "cell_type": "code",
   "execution_count": null,
   "id": "5269bbea-f356-4f02-adc1-0c5a51ed02ef",
   "metadata": {},
   "outputs": [],
   "source": [
    "import pandas as "
   ]
  }
 ],
 "metadata": {
  "kernelspec": {
   "display_name": "Python 3 (ipykernel)",
   "language": "python",
   "name": "python3"
  },
  "language_info": {
   "codemirror_mode": {
    "name": "ipython",
    "version": 3
   },
   "file_extension": ".py",
   "mimetype": "text/x-python",
   "name": "python",
   "nbconvert_exporter": "python",
   "pygments_lexer": "ipython3",
   "version": "3.9.7"
  }
 },
 "nbformat": 4,
 "nbformat_minor": 5
}
