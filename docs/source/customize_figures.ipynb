{
 "cells": [
  {
   "cell_type": "markdown",
   "id": "753c54d6-c09c-4f9f-9f5b-32f405cfa33b",
   "metadata": {},
   "source": [
    "# Customize Plotly Figures"
   ]
  },
  {
   "cell_type": "code",
   "execution_count": null,
   "id": "87353ac9-d056-4f1b-a15c-296b1c0a8107",
   "metadata": {},
   "outputs": [],
   "source": []
  },
  {
   "cell_type": "code",
   "execution_count": null,
   "id": "d61899d3-b078-4f0f-a1e5-ad298b2cf18a",
   "metadata": {},
   "outputs": [],
   "source": []
  }
 ],
 "metadata": {
  "kernelspec": {
   "display_name": "Python 3 (ipykernel)",
   "language": "python",
   "name": "python3"
  },
  "language_info": {
   "codemirror_mode": {
    "name": "ipython",
    "version": 3
   },
   "file_extension": ".py",
   "mimetype": "text/x-python",
   "name": "python",
   "nbconvert_exporter": "python",
   "pygments_lexer": "ipython3",
   "version": "3.9.7"
  }
 },
 "nbformat": 4,
 "nbformat_minor": 5
}
